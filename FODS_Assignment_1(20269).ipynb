{
  "nbformat": 4,
  "nbformat_minor": 0,
  "metadata": {
    "colab": {
      "provenance": [],
      "collapsed_sections": []
    },
    "kernelspec": {
      "name": "python3",
      "display_name": "Python 3"
    },
    "language_info": {
      "name": "python"
    }
  },
  "cells": [
    {
      "cell_type": "code",
      "execution_count": 1,
      "metadata": {
        "colab": {
          "base_uri": "https://localhost:8080/"
        },
        "id": "5DhZ1mMGRNVO",
        "outputId": "343ed106-4bbe-4a1d-8ac9-e6967b841972"
      },
      "outputs": [
        {
          "output_type": "stream",
          "name": "stdout",
          "text": [
            "('aman', '222', 777, 400.4)\n",
            "<class 'tuple'>\n"
          ]
        }
      ],
      "source": [
        "#Q1\n",
        "\n",
        "l1 = [\"aman\",\"222\",777,400.4]\n",
        "\n",
        "t = tuple(l1)\n",
        "print(t)\n",
        "print(type(t))"
      ]
    },
    {
      "cell_type": "code",
      "source": [
        "#Q2\n",
        "\n",
        "dictonary = {'Roll No' : 'cb.en.u4cse20269' , 'Last name' : 'Nagoor' , 'First name' : 'Veeraboina' , 'Date of birth' : '06-09-2002'}\n",
        "print('Dictionary : ',dictonary)\n",
        "print('KEYS : ',dictonary.keys())\n",
        "print('VALUES : ',dictonary.values())"
      ],
      "metadata": {
        "colab": {
          "base_uri": "https://localhost:8080/"
        },
        "id": "T-Kf3uESTiTO",
        "outputId": "da686493-7144-4365-a14c-f504755e5f4d"
      },
      "execution_count": 2,
      "outputs": [
        {
          "output_type": "stream",
          "name": "stdout",
          "text": [
            "Dictionary :  {'Roll No': 'cb.en.u4cse20269', 'Last name': 'Nagoor', 'First name': 'Veeraboina', 'Date of birth': '06-09-2002'}\n",
            "KEYS :  dict_keys(['Roll No', 'Last name', 'First name', 'Date of birth'])\n",
            "VALUES :  dict_values(['cb.en.u4cse20269', 'Nagoor', 'Veeraboina', '06-09-2002'])\n"
          ]
        }
      ]
    },
    {
      "cell_type": "code",
      "source": [
        "#Q3\n",
        "\n",
        "import numpy as np\n",
        "import random\n",
        "random.seed(50)\n",
        "d2 = np.random.rand(2,2)\n",
        "print(d2)"
      ],
      "metadata": {
        "colab": {
          "base_uri": "https://localhost:8080/"
        },
        "id": "aQmVrZmyUxeH",
        "outputId": "ede2bfeb-e439-4b0f-ad94-95f3a820fdd0"
      },
      "execution_count": 3,
      "outputs": [
        {
          "output_type": "stream",
          "name": "stdout",
          "text": [
            "[[0.59710364 0.56512023]\n",
            " [0.27951899 0.0977371 ]]\n"
          ]
        }
      ]
    },
    {
      "cell_type": "code",
      "source": [
        "#Q4\n",
        "\n",
        "import random\n",
        "randnum = random.uniform(0.0,1.0)\n",
        "print(randnum)\n",
        "import math\n",
        "no = -1234\n",
        "print(abs(-1234))"
      ],
      "metadata": {
        "colab": {
          "base_uri": "https://localhost:8080/"
        },
        "id": "R079bfOSVqQQ",
        "outputId": "a6ef268d-9d11-474b-e94b-24059ee0c713"
      },
      "execution_count": 4,
      "outputs": [
        {
          "output_type": "stream",
          "name": "stdout",
          "text": [
            "0.4975365687586023\n",
            "1234\n"
          ]
        }
      ]
    },
    {
      "cell_type": "code",
      "source": [
        "#Q5\n",
        "\n",
        "import random\n",
        "randnum = random.randint(20,90)\n",
        "print(randnum)"
      ],
      "metadata": {
        "colab": {
          "base_uri": "https://localhost:8080/"
        },
        "id": "dvsqxZpaWAQd",
        "outputId": "5a48a4fe-9082-4f7a-834d-8c8f1b50a406"
      },
      "execution_count": 5,
      "outputs": [
        {
          "output_type": "stream",
          "name": "stdout",
          "text": [
            "54\n"
          ]
        }
      ]
    },
    {
      "cell_type": "code",
      "source": [
        "#Q6\n",
        "\n",
        "import random\n",
        "population = [11,12,13,14,15]\n",
        "#3numset\n",
        "print(random.sample(population,3))\n",
        "#shuffle\n",
        "random.shuffle(population)\n",
        "print(population)\n",
        "#randprint\n",
        "print(random.choice(population))"
      ],
      "metadata": {
        "colab": {
          "base_uri": "https://localhost:8080/"
        },
        "id": "bWOIV5R7WIaS",
        "outputId": "c180c9ce-16ff-4fc9-ac62-4d054dc7df1d"
      },
      "execution_count": 6,
      "outputs": [
        {
          "output_type": "stream",
          "name": "stdout",
          "text": [
            "[13, 12, 15]\n",
            "[15, 12, 11, 13, 14]\n",
            "12\n"
          ]
        }
      ]
    },
    {
      "cell_type": "code",
      "source": [
        "#Q7 \n",
        "file=open(\"test.txt\",\"w\")\n",
        "file.write(\"The King is Dead, Long Live The King\")\n",
        "file.close()\n",
        "file=open(\"test.txt\",\"r\")\n",
        "for i in file:\n",
        "  print(i,end=\" \")"
      ],
      "metadata": {
        "id": "J7_ZFTU_WtDh",
        "colab": {
          "base_uri": "https://localhost:8080/"
        },
        "outputId": "be4d39bb-c793-484a-dedd-6df53ab9b238"
      },
      "execution_count": 7,
      "outputs": [
        {
          "output_type": "stream",
          "name": "stdout",
          "text": [
            "The King is Dead, Long Live The King "
          ]
        }
      ]
    },
    {
      "cell_type": "code",
      "source": [
        "#Q8\n",
        "\n",
        "def ist(n,ch):\n",
        "  if ch in ['s','S']:\n",
        "    print('Square of the given number is : ',n**2)\n",
        "  elif ch in ['c','C']:\n",
        "    print('Cube of the given number is : ',n**3)\n",
        "  elif ch in ['f','F']:\n",
        "    print('Factorial of the given number is : ',fac(n))\n",
        "  else:\n",
        "    print('Invalid Choice')\n",
        "\n",
        "def fac(n):\n",
        "  f=1\n",
        "  for i in range(1,n+1):\n",
        "    f*=i\n",
        "  return f\n",
        "\n",
        "print(\"Enter a choice :\")\n",
        "ch = input('s for square\\nc for cube\\nf for factorial of the given number : ')\n",
        "n = int(input('Enter the number : '))\n",
        "ist(n,ch)"
      ],
      "metadata": {
        "colab": {
          "base_uri": "https://localhost:8080/"
        },
        "id": "evnJhDtNXDZI",
        "outputId": "c7b77fa8-eed3-4a7c-ed37-af41c3ad7699"
      },
      "execution_count": 8,
      "outputs": [
        {
          "output_type": "stream",
          "name": "stdout",
          "text": [
            "Enter a choice :\n",
            "s for square\n",
            "c for cube\n",
            "f for factorial of the given number : 54\n",
            "Enter the number : 12\n",
            "Invalid Choice\n"
          ]
        }
      ]
    },
    {
      "cell_type": "code",
      "source": [
        "#Q9. \n",
        "\n",
        "st = \"The King is Dead, Long Live The King\"\n",
        "#1\n",
        "print(st)\n",
        "#2\n",
        "print(st[0])\n",
        "#3\n",
        "print(st[2:5])\n",
        "#4\n",
        "print(st[2:])\n",
        "#5\n",
        "st_list = st.split()\n",
        "print(st_list)"
      ],
      "metadata": {
        "colab": {
          "base_uri": "https://localhost:8080/"
        },
        "id": "Jlomfxl8Xb2Z",
        "outputId": "f6f5e92b-b427-4d89-d175-394188015bf8"
      },
      "execution_count": 9,
      "outputs": [
        {
          "output_type": "stream",
          "name": "stdout",
          "text": [
            "The King is Dead, Long Live The King\n",
            "T\n",
            "e K\n",
            "e King is Dead, Long Live The King\n",
            "['The', 'King', 'is', 'Dead,', 'Long', 'Live', 'The', 'King']\n"
          ]
        }
      ]
    },
    {
      "cell_type": "code",
      "source": [
        "#Q10\n",
        "import numpy as np\n",
        "li = [1,4,5,8]\n",
        "array = np.array(li,dtype=float)\n",
        "print(\"Array : \",array)\n",
        "print(\"Sliced array : \",array[0:2])"
      ],
      "metadata": {
        "colab": {
          "base_uri": "https://localhost:8080/"
        },
        "id": "FT_UF0tDXp_-",
        "outputId": "7052cb98-04c9-4fda-decd-208dd0b971f3"
      },
      "execution_count": 10,
      "outputs": [
        {
          "output_type": "stream",
          "name": "stdout",
          "text": [
            "Array :  [1. 4. 5. 8.]\n",
            "Sliced array :  [1. 4.]\n"
          ]
        }
      ]
    },
    {
      "cell_type": "code",
      "source": [
        "#Q11\n",
        "import numpy as np\n",
        "a1 = [1,2,3]\n",
        "a2 = [4,5,6]\n",
        "array = np.array((a1,a2))\n",
        "array"
      ],
      "metadata": {
        "colab": {
          "base_uri": "https://localhost:8080/"
        },
        "id": "u-feI67hXzkf",
        "outputId": "217339c2-7d30-4573-8467-1d7ca59b8d3b"
      },
      "execution_count": 11,
      "outputs": [
        {
          "output_type": "execute_result",
          "data": {
            "text/plain": [
              "array([[1, 2, 3],\n",
              "       [4, 5, 6]])"
            ]
          },
          "metadata": {},
          "execution_count": 11
        }
      ]
    },
    {
      "cell_type": "code",
      "source": [
        "#Q12\n",
        "\n",
        "import numpy as np\n",
        "a=[1,2,3]\n",
        "b=[4,5,6]\n",
        "arr = np.array((a,b),dtype =float)\n",
        "#2ndrow\n",
        "print('Second row : ',arr[1:,:])\n",
        "#2,5\n",
        "print('Splitted array : ',arr[:,1])\n",
        "#length\n",
        "print('Length of the array : ',len(arr))\n",
        "#shape\n",
        "print('Shape of the array : ',arr.shape)\n",
        "#number of elements\n",
        "tup=arr.shape\n",
        "leng = 1\n",
        "for i in tup:\n",
        "    leng = leng*i\n",
        "print('Number of elements : ',leng)"
      ],
      "metadata": {
        "colab": {
          "base_uri": "https://localhost:8080/"
        },
        "id": "YgbFReXNX7YG",
        "outputId": "984d812b-827a-409c-ed61-235db4da74b4"
      },
      "execution_count": 12,
      "outputs": [
        {
          "output_type": "stream",
          "name": "stdout",
          "text": [
            "Second row :  [[4. 5. 6.]]\n",
            "Splitted array :  [2. 5.]\n",
            "Length of the array :  2\n",
            "Shape of the array :  (2, 3)\n",
            "Number of elements :  6\n"
          ]
        }
      ]
    },
    {
      "cell_type": "code",
      "source": [
        "#Q13\n",
        "import numpy as np\n",
        "li = [1,2,3,4,5,6,7,8,9,10]\n",
        "arr = np.array(li)\n",
        "print('Array : \\n',arr, '\\nShape : ',arr.shape)\n",
        "narr = arr.reshape(2,5)\n",
        "print('New Array : \\n',narr,'\\nShape : ',narr.shape)\n",
        "print('Transpose of the matrix : \\n',narr.transpose())"
      ],
      "metadata": {
        "colab": {
          "base_uri": "https://localhost:8080/"
        },
        "id": "7NrGyL3rYFzK",
        "outputId": "2b70dc3d-5860-41ad-acf5-b39cebdcfa50"
      },
      "execution_count": 13,
      "outputs": [
        {
          "output_type": "stream",
          "name": "stdout",
          "text": [
            "Array : \n",
            " [ 1  2  3  4  5  6  7  8  9 10] \n",
            "Shape :  (10,)\n",
            "New Array : \n",
            " [[ 1  2  3  4  5]\n",
            " [ 6  7  8  9 10]] \n",
            "Shape :  (2, 5)\n",
            "Transpose of the matrix : \n",
            " [[ 1  6]\n",
            " [ 2  7]\n",
            " [ 3  8]\n",
            " [ 4  9]\n",
            " [ 5 10]]\n"
          ]
        }
      ]
    },
    {
      "cell_type": "code",
      "source": [
        "#Q14\n",
        "import numpy as np\n",
        "lis = [1,2,3]\n",
        "nparr = np.array(lis)\n",
        "print('Array : ',nparr,'\\nType : ',type(nparr))"
      ],
      "metadata": {
        "colab": {
          "base_uri": "https://localhost:8080/"
        },
        "id": "zJ4f_qNpYPH_",
        "outputId": "f399a047-e3a0-4826-96c1-444126c8cd4b"
      },
      "execution_count": 14,
      "outputs": [
        {
          "output_type": "stream",
          "name": "stdout",
          "text": [
            "Array :  [1 2 3] \n",
            "Type :  <class 'numpy.ndarray'>\n"
          ]
        }
      ]
    },
    {
      "cell_type": "code",
      "source": [
        "#Q15\n",
        "import numpy as np\n",
        "l = [1,2,3]\n",
        "arr = np.array(l)\n",
        "print('Initail array : ',arr)\n",
        "arr[:]=9\n",
        "print('Final array : ',arr)"
      ],
      "metadata": {
        "colab": {
          "base_uri": "https://localhost:8080/"
        },
        "id": "7srmQGsdYW6f",
        "outputId": "d21fdaf7-e6a3-4b39-d1b9-9715288c3561"
      },
      "execution_count": 15,
      "outputs": [
        {
          "output_type": "stream",
          "name": "stdout",
          "text": [
            "Initail array :  [1 2 3]\n",
            "Final array :  [9 9 9]\n"
          ]
        }
      ]
    },
    {
      "cell_type": "code",
      "source": [
        "#Q16\n",
        "import numpy as np\n",
        "arr = np.array([2,4,5])\n",
        "print('Sum of the elements : ', np.sum(arr))"
      ],
      "metadata": {
        "colab": {
          "base_uri": "https://localhost:8080/"
        },
        "id": "iQhm3jJUYc_k",
        "outputId": "1665207f-64a9-4031-b803-77be569576a4"
      },
      "execution_count": 16,
      "outputs": [
        {
          "output_type": "stream",
          "name": "stdout",
          "text": [
            "Sum of the elements :  11\n"
          ]
        }
      ]
    },
    {
      "cell_type": "code",
      "source": [
        "#Q17\n",
        "import numpy as np\n",
        "arr = np.array([77,74,75])\n",
        "print('Product of the elements : ',np.product(arr))"
      ],
      "metadata": {
        "colab": {
          "base_uri": "https://localhost:8080/"
        },
        "id": "AIc8MkjYZDiT",
        "outputId": "ca25f03f-7dad-4624-9d96-c1cb63c8ec6b"
      },
      "execution_count": 17,
      "outputs": [
        {
          "output_type": "stream",
          "name": "stdout",
          "text": [
            "Product of the elements :  427350\n"
          ]
        }
      ]
    },
    {
      "cell_type": "code",
      "source": [
        "#Q18\n",
        "import numpy as np\n",
        "arr = np.array([2,1,9,1,2,22,1,1,4,55,6,2,56])\n",
        "#mean\n",
        "print('mean: ',np.mean(arr))\n",
        "#median\n",
        "print('median: ',np.median(arr))\n",
        "#variance\n",
        "print('variance: ',np.var(arr))\n",
        "#max\n",
        "print('Max : ',np.max(arr))\n",
        "#min\n",
        "print('Min ',np.min(arr))\n",
        "#argmin\n",
        "print('Argmin : ',np.argmin(arr))\n",
        "#argmax\n",
        "print('Argmax: ',np.argmax(arr))\n",
        "#std\n",
        "print('Standard Deviation: ',np.std(arr))"
      ],
      "metadata": {
        "colab": {
          "base_uri": "https://localhost:8080/"
        },
        "id": "79d2oJKvZPKf",
        "outputId": "05e2d7c1-5929-48a8-e61b-9d729c5a0581"
      },
      "execution_count": 18,
      "outputs": [
        {
          "output_type": "stream",
          "name": "stdout",
          "text": [
            "mean:  12.461538461538462\n",
            "median:  2.0\n",
            "variance:  367.32544378698225\n",
            "Max :  56\n",
            "Min  1\n",
            "Argmin :  1\n",
            "Argmax:  12\n",
            "Standard Deviation:  19.165736192147232\n"
          ]
        }
      ]
    },
    {
      "cell_type": "code",
      "source": [
        "#Q19\n",
        "import numpy as np\n",
        "l = [1,1,4,5,5,5,7]\n",
        "arr = np.array(l)\n",
        "unq = np.unique(arr)\n",
        "print(unq)\n",
        "s_unq = np.sort(unq)\n",
        "print(s_unq)"
      ],
      "metadata": {
        "colab": {
          "base_uri": "https://localhost:8080/"
        },
        "id": "Eu1GFDdwZWrM",
        "outputId": "3ffd232c-9728-4a71-c17b-fda77fe4725c"
      },
      "execution_count": 19,
      "outputs": [
        {
          "output_type": "stream",
          "name": "stdout",
          "text": [
            "[1 4 5 7]\n",
            "[1 4 5 7]\n"
          ]
        }
      ]
    },
    {
      "cell_type": "code",
      "source": [
        "#Q20\n",
        "import numpy as np\n",
        "a1 = [1,2,3]\n",
        "a2 = [0,1,1]\n",
        "a3 = np.dot(a1,a2)\n",
        "print(a3)"
      ],
      "metadata": {
        "colab": {
          "base_uri": "https://localhost:8080/"
        },
        "id": "7oSLFlv1aAu5",
        "outputId": "bb6bc13c-7532-440e-b691-f566f7920f04"
      },
      "execution_count": 20,
      "outputs": [
        {
          "output_type": "stream",
          "name": "stdout",
          "text": [
            "5\n"
          ]
        }
      ]
    },
    {
      "cell_type": "code",
      "source": [
        "#Q21\n",
        "import numpy as np\n",
        "A = [[2,-12],[1,-5]]\n",
        "arr = np.array(A)\n",
        "eva,eve = np.linalg.eig(A)\n",
        "print(eva)\n",
        "print(eve)"
      ],
      "metadata": {
        "colab": {
          "base_uri": "https://localhost:8080/"
        },
        "id": "gL5wbBlgaQeu",
        "outputId": "6b5da707-3570-40c6-ddc4-d141058f0d3d"
      },
      "execution_count": 21,
      "outputs": [
        {
          "output_type": "stream",
          "name": "stdout",
          "text": [
            "[-1. -2.]\n",
            "[[0.9701425  0.9486833 ]\n",
            " [0.24253563 0.31622777]]\n"
          ]
        }
      ]
    },
    {
      "cell_type": "code",
      "source": [
        "#Q22\n",
        "import numpy as np\n",
        "arr = np.array([[11, 22, 11, 31], [25, 33, 31, 28]],dtype=float)\n",
        "print(np.corrcoef(arr))"
      ],
      "metadata": {
        "colab": {
          "base_uri": "https://localhost:8080/"
        },
        "id": "b-yIyMxfc1M1",
        "outputId": "6a2707f4-d708-40d4-9697-2480165658fd"
      },
      "execution_count": 22,
      "outputs": [
        {
          "output_type": "stream",
          "name": "stdout",
          "text": [
            "[[1.         0.15997968]\n",
            " [0.15997968 1.        ]]\n"
          ]
        }
      ]
    }
  ]
}